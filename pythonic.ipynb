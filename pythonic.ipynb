{
 "cells": [
  {
   "cell_type": "markdown",
   "metadata": {
    "collapsed": false
   },
   "source": [
    "# `Import This Pythonic`"
   ]
  },
  {
   "cell_type": "markdown",
   "metadata": {
    "collapsed": false
   },
   "source": [
    "* 编程风格可参考: [Google Python Style Guide](http://zh-google-styleguide.readthedocs.io/en/latest/google-python-styleguide/python_style_rules/)"
   ]
  },
  {
   "cell_type": "code",
   "execution_count": null,
   "metadata": {
    "collapsed": true
   },
   "outputs": [],
   "source": [
    "import this"
   ]
  },
  {
   "cell_type": "markdown",
   "metadata": {},
   "source": [
    "**[不推荐]**  打开文件的方式 "
   ]
  },
  {
   "cell_type": "code",
   "execution_count": 66,
   "metadata": {
    "collapsed": true
   },
   "outputs": [],
   "source": [
    "f = open('./pythonic.ipynb')\n",
    "try :\n",
    "    for line in f.readlines():\n",
    "        pass\n",
    "except Exception as e:\n",
    "    pass\n",
    "finally:\n",
    "    f.close()    "
   ]
  },
  {
   "cell_type": "markdown",
   "metadata": {},
   "source": [
    "**[推荐]**  打开文件的方式(使用上下文管理器)\n",
    "> 你还可以自定义 `__enter__`和`__exit__`，例如：\n",
    "\n",
    "```python\n",
    "class OpenFile():\n",
    "\n",
    "    def __init__(self, filename, mode):\n",
    "        self.filename = filename\n",
    "        self.mode = mode\n",
    "\n",
    "    def __enter__(self):\n",
    "        print(\"Ha Ha Ha, Don't Want Open the file :%s, I am the Knight!\\n \", self.filename )\n",
    "        return [str(name) for name in range(1,4)]\n",
    "\n",
    "    def __exit__(self,*args):\n",
    "        print(\"I am Just Leaving.... \\n\")\n",
    "        print(\"I am Seriously, Do you know?\")\n",
    "\n",
    "\n",
    "with OpenFile('./target.txt','w') as f:\n",
    "    for line in f:\n",
    "        print(line)\n",
    "\n",
    "```\n",
    "还可以使用装饰器`from contextlib import ContextDecorator`来进一步简化写法."
   ]
  },
  {
   "cell_type": "code",
   "execution_count": 85,
   "metadata": {
    "collapsed": false
   },
   "outputs": [],
   "source": [
    "with open('./pythonic.ipynb') as f:\n",
    "    for line in f.readlines():\n",
    "        pass"
   ]
  },
  {
   "cell_type": "code",
   "execution_count": 109,
   "metadata": {
    "collapsed": false
   },
   "outputs": [],
   "source": [
    "# Now Uncomment It, Let's Try.-_-\n",
    "# class OpenFile():\n",
    "\n",
    "#     def __init__(self, filename, mode):\n",
    "#         self.filename = filename\n",
    "#         self.mode = mode\n",
    "\n",
    "#     def __enter__(self):\n",
    "#         print(\"Ha Ha Ha, Don't Want Open the file :%s, I am the Knight!\\n \", self.filename )\n",
    "#         return [str(name) for name in range(1,4)]\n",
    "\n",
    "#     def __exit__(self,*args):\n",
    "#         print(\"I am Just Leaving.... \\n\")\n",
    "#         print(\"I am Seriously, Do you know?\")\n",
    "\n",
    "\n",
    "# with OpenFile('./target.txt','w') as f:\n",
    "#     for line in f:\n",
    "#         print(line)\n"
   ]
  },
  {
   "cell_type": "code",
   "execution_count": 16,
   "metadata": {
    "collapsed": false
   },
   "outputs": [],
   "source": [
    "with open('./source.txt') as source, open('./target.txt','w') as target:\n",
    "    target.write(source.read())"
   ]
  },
  {
   "cell_type": "markdown",
   "metadata": {},
   "source": [
    "**[不推荐]**　交换变量"
   ]
  },
  {
   "cell_type": "code",
   "execution_count": 18,
   "metadata": {
    "collapsed": false
   },
   "outputs": [],
   "source": [
    "a = 1\n",
    "b = 2 \n",
    "t = a \n",
    "a = b\n",
    "b = t "
   ]
  },
  {
   "cell_type": "markdown",
   "metadata": {},
   "source": [
    "**[推荐]**　交换变量"
   ]
  },
  {
   "cell_type": "code",
   "execution_count": 20,
   "metadata": {
    "collapsed": true
   },
   "outputs": [],
   "source": [
    "a = 1\n",
    "b = 2 \n",
    "a,b = b,a"
   ]
  },
  {
   "cell_type": "markdown",
   "metadata": {},
   "source": [
    "**[不推荐]**　使用循环构造列表"
   ]
  },
  {
   "cell_type": "code",
   "execution_count": 65,
   "metadata": {
    "collapsed": false
   },
   "outputs": [
    {
     "name": "stdout",
     "output_type": "stream",
     "text": [
      "['la', 'la', 'la']\n"
     ]
    }
   ],
   "source": [
    "poem = ['la','la','land','va','va','la','vad']\n",
    "res = []\n",
    "for item in poem:\n",
    "    if item == 'la':\n",
    "        res.append(item)\n",
    "print(res)"
   ]
  },
  {
   "cell_type": "markdown",
   "metadata": {},
   "source": [
    "**[推荐]**　使用列表推导式(还有字典推导式集合推导式)"
   ]
  },
  {
   "cell_type": "code",
   "execution_count": 63,
   "metadata": {
    "collapsed": false
   },
   "outputs": [],
   "source": [
    "poem = ['la','la','land','va','va','la','vad']\n",
    "items_lava = [item for item in poem if item == 'va' and item == 'la' ]\n",
    "items_lavad = [item for item in poem ]"
   ]
  },
  {
   "cell_type": "markdown",
   "metadata": {},
   "source": [
    "**[不推荐]**　使用`+`的字符串连接方式"
   ]
  },
  {
   "cell_type": "code",
   "execution_count": 19,
   "metadata": {
    "collapsed": false
   },
   "outputs": [
    {
     "data": {
      "text/plain": [
       "'whereareyou'"
      ]
     },
     "execution_count": 19,
     "metadata": {},
     "output_type": "execute_result"
    }
   ],
   "source": [
    "a = \"where\" + \"are\" + \"you\"\n",
    "a"
   ]
  },
  {
   "cell_type": "markdown",
   "metadata": {},
   "source": [
    "**[推荐]**　使用`join`的字符串连接方式"
   ]
  },
  {
   "cell_type": "code",
   "execution_count": 17,
   "metadata": {
    "collapsed": false
   },
   "outputs": [
    {
     "data": {
      "text/plain": [
       "'where are you'"
      ]
     },
     "execution_count": 17,
     "metadata": {},
     "output_type": "execute_result"
    }
   ],
   "source": [
    "letter = [\"where\",\"are\",\"you\"]\n",
    "' '.join(letter) "
   ]
  },
  {
   "cell_type": "markdown",
   "metadata": {},
   "source": [
    "**[不推荐]**　使用`%`的格式化输出"
   ]
  },
  {
   "cell_type": "code",
   "execution_count": 48,
   "metadata": {
    "collapsed": false
   },
   "outputs": [
    {
     "name": "stdout",
     "output_type": "stream",
     "text": [
      "I am     here, DK, Now Time Is 123.2344\n"
     ]
    }
   ],
   "source": [
    "print((\"I am %+8s, %s, Now Time Is %.4f\")%(\"here\",\"DK\", 123.234423))"
   ]
  },
  {
   "cell_type": "markdown",
   "metadata": {},
   "source": [
    "**[推荐]**　使用`'{}'.format()`的字符串连接方式"
   ]
  },
  {
   "cell_type": "code",
   "execution_count": 47,
   "metadata": {
    "collapsed": false
   },
   "outputs": [
    {
     "data": {
      "text/plain": [
       "'I am     here,DK, Now Time Is 1504754802.6532'"
      ]
     },
     "execution_count": 47,
     "metadata": {},
     "output_type": "execute_result"
    }
   ],
   "source": [
    "import time\n",
    "'{0} {1} {2:>8},{name}, Now Time Is {now:.4f}'.format('I','am','here',name='DK', now=time.time())"
   ]
  },
  {
   "cell_type": "markdown",
   "metadata": {},
   "source": [
    "map"
   ]
  },
  {
   "cell_type": "markdown",
   "metadata": {},
   "source": [
    "reduce"
   ]
  },
  {
   "cell_type": "markdown",
   "metadata": {},
   "source": [
    "filter"
   ]
  },
  {
   "cell_type": "markdown",
   "metadata": {},
   "source": [
    "yield"
   ]
  },
  {
   "cell_type": "markdown",
   "metadata": {},
   "source": [
    "generator"
   ]
  },
  {
   "cell_type": "markdown",
   "metadata": {},
   "source": [
    "decorator"
   ]
  },
  {
   "cell_type": "markdown",
   "metadata": {},
   "source": [
    "iterator"
   ]
  },
  {
   "cell_type": "markdown",
   "metadata": {},
   "source": [
    "lambda"
   ]
  },
  {
   "cell_type": "markdown",
   "metadata": {},
   "source": [
    "enumerate"
   ]
  },
  {
   "cell_type": "markdown",
   "metadata": {},
   "source": [
    "any"
   ]
  },
  {
   "cell_type": "markdown",
   "metadata": {},
   "source": [
    "**[不推荐]**使用`*args` and `**kwargs`传递可变长参数\n",
    "* 降低了代码易读性\n",
    "* [```什么是 *args, **kwargs```](https://stackoverflow.com/questions/36901/what-does-double-star-asterisk-and-star-asterisk-do-for-parameters)"
   ]
  },
  {
   "cell_type": "code",
   "execution_count": 84,
   "metadata": {
    "collapsed": false
   },
   "outputs": [
    {
     "name": "stdout",
     "output_type": "stream",
     "text": [
      "Those people was named: ['0', '1', '2', '3', '4', '5', '6', '7', '8', '9'] Now They want Run Is True\n"
     ]
    }
   ],
   "source": [
    "def funny(*args,**kwargs):\n",
    "    for name in args:\n",
    "        print(\"Those people was named:\" ,name,end= ' ')\n",
    "    for action in kwargs:\n",
    "        if action == 'Run' and kwargs[action] is True:\n",
    "            print(\"Now They want Run Is True.\")\n",
    "        elif action == 'Run' and kwargs[action] is False:\n",
    "            print(\"I just wana run, But I can't, this feeling is not good\")\n",
    "        else:\n",
    "            print(\"I can't understand Those People.\")\n",
    "\n",
    "people = [str(i) for i in range(0,10)]\n",
    "funny(people,Run=True)"
   ]
  },
  {
   "cell_type": "markdown",
   "metadata": {},
   "source": [
    "**[推荐]**参数数量和名称应当尽量明确"
   ]
  },
  {
   "cell_type": "code",
   "execution_count": null,
   "metadata": {
    "collapsed": true
   },
   "outputs": [],
   "source": [
    "def funny(name,Action):\n",
    "    pass"
   ]
  },
  {
   "cell_type": "markdown",
   "metadata": {},
   "source": []
  },
  {
   "cell_type": "markdown",
   "metadata": {},
   "source": [
    "decorate"
   ]
  },
  {
   "cell_type": "markdown",
   "metadata": {},
   "source": [
    "### lib"
   ]
  },
  {
   "cell_type": "markdown",
   "metadata": {},
   "source": [
    "configparser"
   ]
  },
  {
   "cell_type": "markdown",
   "metadata": {},
   "source": [
    "collections: nametuple, userDict"
   ]
  },
  {
   "cell_type": "code",
   "execution_count": null,
   "metadata": {
    "collapsed": true
   },
   "outputs": [],
   "source": []
  },
  {
   "cell_type": "markdown",
   "metadata": {},
   "source": [
    "**[推荐]** 使用`genvent`的[`monkey patch`](https://web.archive.org/web/20120730014107/http://wiki.zope.org/zope2/MonkeyPatch)\n",
    "> 注意`patch`的时间越早越好，在文件的第一行去进行\n",
    "```python\n",
    "patch_all(socket=True, dns=True, time=True, select=True, thread=True, os=True, ssl=True, httplib=False, subprocess=True, sys=False, aggressive=True, Event=False, builtins=True, signal=True)\n",
    "```"
   ]
  },
  {
   "cell_type": "code",
   "execution_count": null,
   "metadata": {
    "collapsed": true
   },
   "outputs": [],
   "source": [
    "from gevent import monkey\n",
    "monkey.patch_all()"
   ]
  },
  {
   "cell_type": "code",
   "execution_count": null,
   "metadata": {
    "collapsed": true
   },
   "outputs": [],
   "source": []
  },
  {
   "cell_type": "markdown",
   "metadata": {},
   "source": [
    "meta programing"
   ]
  },
  {
   "cell_type": "markdown",
   "metadata": {},
   "source": [
    "design pattern(Linked to python-pattern)"
   ]
  },
  {
   "cell_type": "markdown",
   "metadata": {},
   "source": [
    "**[其他]**　去重，排序，查找，遍历文件夹(文件),LRU,Tree"
   ]
  },
  {
   "cell_type": "markdown",
   "metadata": {},
   "source": [
    "字典列表的去重"
   ]
  },
  {
   "cell_type": "code",
   "execution_count": 13,
   "metadata": {
    "collapsed": false
   },
   "outputs": [
    {
     "name": "stdout",
     "output_type": "stream",
     "text": [
      "[{'name': 'lisi'}, {'name': 'zhangsan'}]\n"
     ]
    }
   ],
   "source": [
    "#普通去重直接使用set(list)即可，但是对于字典列表来说，由于dict不能hash，所以不能直接通过set()进行\n",
    "user = [{\"name\":'zhangsan'},{\"name\":\"lisi\"},{\"name\":\"zhangsan\"}]\n",
    "new = []\n",
    "t_user = [str(r) for r in user]\n",
    "for _ in set(t_user):\n",
    "    tmp = eval(_)\n",
    "    new.append(tmp)\n",
    "print(new)\n",
    "#当然字典列表并不一定是最合适的数据结构，我通常是爬虫爬数据时用。此处只是提供一个去重的方法，可以借鉴"
   ]
  },
  {
   "cell_type": "markdown",
   "metadata": {},
   "source": [
    "遍历文件夹下的文件"
   ]
  },
  {
   "cell_type": "code",
   "execution_count": 3,
   "metadata": {
    "collapsed": false
   },
   "outputs": [
    {
     "name": "stdout",
     "output_type": "stream",
     "text": [
      "./pythonic.ipynb\n",
      "./target.txt\n",
      "./source.txt\n",
      "./.ipynb_checkpoints/save_restore_model-checkpoint.ipynb\n",
      "./.ipynb_checkpoints/pythonic-checkpoint.ipynb\n"
     ]
    }
   ],
   "source": [
    "import os \n",
    "for p,d,f in os.walk('./'):\n",
    "    for file in f:\n",
    "        print(os.path.join(p,file))"
   ]
  },
  {
   "cell_type": "markdown",
   "metadata": {},
   "source": [
    "一行Python实现树结构\n",
    "* [One Line Tree](https://gist.github.com/hrldcpr/2012250)"
   ]
  },
  {
   "cell_type": "code",
   "execution_count": 7,
   "metadata": {
    "collapsed": true
   },
   "outputs": [],
   "source": [
    "from collections import defaultdict\n",
    "def tree(): return defaultdict(tree)"
   ]
  },
  {
   "cell_type": "markdown",
   "metadata": {},
   "source": [
    "使用cPickle代替Pickle"
   ]
  },
  {
   "cell_type": "code",
   "execution_count": 8,
   "metadata": {
    "collapsed": true
   },
   "outputs": [],
   "source": [
    "try:\n",
    "   import cPickle as pickle\n",
    "except:\n",
    "   import pickle"
   ]
  },
  {
   "cell_type": "markdown",
   "metadata": {},
   "source": [
    "使用pprint代替print"
   ]
  },
  {
   "cell_type": "code",
   "execution_count": 14,
   "metadata": {
    "collapsed": true
   },
   "outputs": [],
   "source": [
    "import pprint"
   ]
  },
  {
   "cell_type": "markdown",
   "metadata": {},
   "source": [
    "命令行参数解析,docopt, optparser,argparser"
   ]
  },
  {
   "cell_type": "markdown",
   "metadata": {},
   "source": [
    "gevent"
   ]
  },
  {
   "cell_type": "markdown",
   "metadata": {},
   "source": [
    "使用`2to3.py`对代码迁移"
   ]
  },
  {
   "cell_type": "markdown",
   "metadata": {},
   "source": [
    "使用`from __future__ import some`　导入未来版本的新特性"
   ]
  },
  {
   "cell_type": "markdown",
   "metadata": {},
   "source": [
    "关于`dict`的几个建议:\n",
    "* 使用`python dict`去做查找，因为`dcit`查找的时间复杂度为`1`\n",
    "* 使用 `.get`去检查某个键值是否存在，而非直接采用`dict[key]==Value`，当不存在时会抛出异常\n",
    "* 继承自`dict`类，覆盖`dict`默认方法是无效的，所以需要继承自`collections.UserDict`"
   ]
  },
  {
   "cell_type": "markdown",
   "metadata": {},
   "source": [
    "```\n",
    "\n",
    "The Zen of Python, by Tim Peters\n",
    "\n",
    "Beautiful is better than ugly.\n",
    "\n",
    "Explicit is better than implicit.\n",
    "\n",
    "Simple is better than complex.\n",
    "\n",
    "Complex is better than complicated.\n",
    "\n",
    "Flat is better than nested.\n",
    "\n",
    "Sparse is better than dense.\n",
    "\n",
    "Readability counts.\n",
    "\n",
    "Special cases aren't special enough to break the rules.\n",
    "\n",
    "Although practicality beats purity.\n",
    "\n",
    "Errors should never pass silently.\n",
    "\n",
    "Unless explicitly silenced.\n",
    "\n",
    "In the face of ambiguity, refuse the temptation to guess.\n",
    "\n",
    "There should be one-- and preferably only one --obvious way to do it.\n",
    "\n",
    "Although that way may not be obvious at first unless you're Dutch.\n",
    "\n",
    "Now is better than never.\n",
    "\n",
    "Although never is often better than *right* now.\n",
    "\n",
    "If the implementation is hard to explain, it's a bad idea.\n",
    "\n",
    "If the implementation is easy to explain, it may be a good idea.\n",
    "\n",
    "Namespaces are one honking great idea -- let's do more of those!\n",
    "```"
   ]
  },
  {
   "cell_type": "markdown",
   "metadata": {},
   "source": [
    "### Resources\n",
    "* [知乎pythonic问题下赖明星的回答](https://www.zhihu.com/question/19794855/answer/129270643)\n",
    "* [Google Python Style Guide](http://zh-google-styleguide.readthedocs.io/en/latest/google-python-styleguide/python_style_rules/)\n",
    "* [Python PEPs](https://www.python.org/dev/peps/)\n",
    "* [The Hitchhiker's Guide to Python](http://docs.python-guide.org/en/latest/writing/style/)\n",
    "* [叶落乌啼霜满天](https://thief.one/2017/04/19/1/)\n",
    "* [Python Tips](http://book.pythontips.com/en/latest/index.html)\n",
    "* [Python Algorithms](https://github.com/TheAlgorithms/Python)\n",
    "* [Python Design Patterns](https://github.com/faif/python-patterns)"
   ]
  }
 ],
 "metadata": {
  "kernelspec": {
   "display_name": "Python 3",
   "language": "python",
   "name": "python3"
  },
  "language_info": {
   "codemirror_mode": {
    "name": "ipython",
    "version": 3
   },
   "file_extension": ".py",
   "mimetype": "text/x-python",
   "name": "python",
   "nbconvert_exporter": "python",
   "pygments_lexer": "ipython3",
   "version": "3.6.0"
  }
 },
 "nbformat": 4,
 "nbformat_minor": 2
}
