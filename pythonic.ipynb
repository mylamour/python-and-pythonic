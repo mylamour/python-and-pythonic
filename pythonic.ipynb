{
 "cells": [
  {
   "cell_type": "markdown",
   "metadata": {
    "collapsed": false
   },
   "source": [
    "# `Import This Pythonic`"
   ]
  },
  {
   "cell_type": "markdown",
   "metadata": {
    "collapsed": false
   },
   "source": [
    "* 编程风格可参考: [Google Python Style Guide](http://zh-google-styleguide.readthedocs.io/en/latest/google-python-styleguide/python_style_rules/)"
   ]
  },
  {
   "cell_type": "code",
   "execution_count": 1,
   "metadata": {
    "collapsed": false
   },
   "outputs": [],
   "source": [
    "# import this"
   ]
  },
  {
   "cell_type": "markdown",
   "metadata": {},
   "source": [
    "**[不推荐]**  打开文件的方式 "
   ]
  },
  {
   "cell_type": "code",
   "execution_count": 2,
   "metadata": {
    "collapsed": true
   },
   "outputs": [],
   "source": [
    "f = open('./pythonic.ipynb')\n",
    "try :\n",
    "    for line in f.readlines():\n",
    "        pass\n",
    "except Exception as e:\n",
    "    pass\n",
    "finally:\n",
    "    f.close()    "
   ]
  },
  {
   "cell_type": "markdown",
   "metadata": {},
   "source": [
    "**[推荐]**  打开文件的方式(使用上下文管理器)\n",
    "> 你还可以自定义 `__enter__`和`__exit__`，例如：\n",
    "\n",
    "```python\n",
    "class OpenFile():\n",
    "\n",
    "    def __init__(self, filename, mode):\n",
    "        self.filename = filename\n",
    "        self.mode = mode\n",
    "\n",
    "    def __enter__(self):\n",
    "        print(\"Ha Ha Ha, Don't Want Open the file :%s, I am the Knight!\\n \", self.filename )\n",
    "        return [str(name) for name in range(1,4)]\n",
    "\n",
    "    def __exit__(self,*args):\n",
    "        print(\"I am Just Leaving.... \\n\")\n",
    "        print(\"I am Seriously, Do you know?\")\n",
    "\n",
    "\n",
    "with OpenFile('./target.txt','w') as f:\n",
    "    for line in f:\n",
    "        print(line)\n",
    "\n",
    "```\n",
    "还可以使用装饰器`from contextlib import ContextDecorator`来进一步简化写法."
   ]
  },
  {
   "cell_type": "code",
   "execution_count": 3,
   "metadata": {
    "collapsed": false
   },
   "outputs": [],
   "source": [
    "with open('./pythonic.ipynb') as f:\n",
    "    for line in f.readlines():\n",
    "        pass"
   ]
  },
  {
   "cell_type": "code",
   "execution_count": 4,
   "metadata": {
    "collapsed": false
   },
   "outputs": [],
   "source": [
    "# Now Uncomment It, Let's Try.-_-\n",
    "# class OpenFile():\n",
    "\n",
    "#     def __init__(self, filename, mode):\n",
    "#         self.filename = filename\n",
    "#         self.mode = mode\n",
    "\n",
    "#     def __enter__(self):\n",
    "#         print(\"Ha Ha Ha, Don't Want Open the file :%s, I am the Knight!\\n \", self.filename )\n",
    "#         return [str(name) for name in range(1,4)]\n",
    "\n",
    "#     def __exit__(self,*args):\n",
    "#         print(\"I am Just Leaving.... \\n\")\n",
    "#         print(\"I am Seriously, Do you know?\")\n",
    "\n",
    "\n",
    "# with OpenFile('./target.txt','w') as f:\n",
    "#     for line in f:\n",
    "#         print(line)\n"
   ]
  },
  {
   "cell_type": "code",
   "execution_count": 5,
   "metadata": {
    "collapsed": false
   },
   "outputs": [],
   "source": [
    "with open('./source.txt') as source, open('./target.txt','w') as target:\n",
    "    target.write(source.read())"
   ]
  },
  {
   "cell_type": "markdown",
   "metadata": {},
   "source": [
    "**[不推荐]**　交换变量"
   ]
  },
  {
   "cell_type": "code",
   "execution_count": 6,
   "metadata": {
    "collapsed": false
   },
   "outputs": [],
   "source": [
    "a = 1\n",
    "b = 2 \n",
    "t = a \n",
    "a = b\n",
    "b = t "
   ]
  },
  {
   "cell_type": "markdown",
   "metadata": {},
   "source": [
    "**[推荐]**　交换变量"
   ]
  },
  {
   "cell_type": "code",
   "execution_count": 7,
   "metadata": {
    "collapsed": true
   },
   "outputs": [],
   "source": [
    "a = 1\n",
    "b = 2 \n",
    "a,b = b,a"
   ]
  },
  {
   "cell_type": "markdown",
   "metadata": {},
   "source": [
    "**[不推荐]**　使用循环构造列表"
   ]
  },
  {
   "cell_type": "code",
   "execution_count": 8,
   "metadata": {
    "collapsed": false
   },
   "outputs": [
    {
     "name": "stdout",
     "output_type": "stream",
     "text": [
      "['la', 'la', 'la']\n"
     ]
    }
   ],
   "source": [
    "poem = ['la','la','land','va','va','la','vad']\n",
    "res = []\n",
    "for item in poem:\n",
    "    if item == 'la':\n",
    "        res.append(item)\n",
    "print(res)"
   ]
  },
  {
   "cell_type": "markdown",
   "metadata": {},
   "source": [
    "**[推荐]**　使用列表推导式(还有字典推导式集合推导式)"
   ]
  },
  {
   "cell_type": "code",
   "execution_count": 9,
   "metadata": {
    "collapsed": false
   },
   "outputs": [],
   "source": [
    "poem = ['la','la','land','va','va','la','vad']\n",
    "items_lava = [item for item in poem if item == 'va' and item == 'la' ]\n",
    "items_lavad = [item for item in poem ]"
   ]
  },
  {
   "cell_type": "markdown",
   "metadata": {},
   "source": [
    "**[不推荐]**　使用`+`的字符串连接方式"
   ]
  },
  {
   "cell_type": "code",
   "execution_count": 10,
   "metadata": {
    "collapsed": false
   },
   "outputs": [
    {
     "data": {
      "text/plain": [
       "'whereareyou'"
      ]
     },
     "execution_count": 10,
     "metadata": {},
     "output_type": "execute_result"
    }
   ],
   "source": [
    "a = \"where\" + \"are\" + \"you\"\n",
    "a"
   ]
  },
  {
   "cell_type": "markdown",
   "metadata": {},
   "source": [
    "**[推荐]**　使用`join`的字符串连接方式"
   ]
  },
  {
   "cell_type": "code",
   "execution_count": 11,
   "metadata": {
    "collapsed": false
   },
   "outputs": [
    {
     "data": {
      "text/plain": [
       "'where are you'"
      ]
     },
     "execution_count": 11,
     "metadata": {},
     "output_type": "execute_result"
    }
   ],
   "source": [
    "letter = [\"where\",\"are\",\"you\"]\n",
    "' '.join(letter) "
   ]
  },
  {
   "cell_type": "markdown",
   "metadata": {},
   "source": [
    "**[不推荐]**　使用`%`的格式化输出"
   ]
  },
  {
   "cell_type": "code",
   "execution_count": 12,
   "metadata": {
    "collapsed": false
   },
   "outputs": [
    {
     "name": "stdout",
     "output_type": "stream",
     "text": [
      "I am     here, DK, Now Time Is 123.2344\n"
     ]
    }
   ],
   "source": [
    "print((\"I am %+8s, %s, Now Time Is %.4f\")%(\"here\",\"DK\", 123.234423))"
   ]
  },
  {
   "cell_type": "markdown",
   "metadata": {},
   "source": [
    "**[推荐]**　使用`'{}'.format()`的字符串连接方式"
   ]
  },
  {
   "cell_type": "code",
   "execution_count": 13,
   "metadata": {
    "collapsed": false
   },
   "outputs": [
    {
     "data": {
      "text/plain": [
       "'I am     here,DK, Now Time Is 1505098971.9980'"
      ]
     },
     "execution_count": 13,
     "metadata": {},
     "output_type": "execute_result"
    }
   ],
   "source": [
    "import time\n",
    "'{0} {1} {2:>8},{name}, Now Time Is {now:.4f}'.format('I','am','here',name='DK', now=time.time())"
   ]
  },
  {
   "cell_type": "markdown",
   "metadata": {},
   "source": [
    "**[Iterator 和Generator ](https://stackoverflow.com/questions/231767/what-does-the-yield-keyword-do)**\n",
    "* 迭代器\n",
    "> 凡是你能使用 `for item in items`的，都是使用了迭代器，同时`items`也是可迭代的。 至于为什么可迭代，只需要定义内置`__iter__`函数即可\n",
    "* 生成器\n",
    "> yield 返回的就是一个生成器,至于为什么可以返回，是和内置函数`__next__`有关,使用yield返回连续数据的同时消耗相同的一块连续内存,不会说你返回的多,内存就消耗的多.(这个在读取大文件时极为有用)\n",
    "> 判断一个函数或实例是不是生成器对象可采用`isgenerator`和`isgeneratorfunction`. 从`inspect`包中导入`from inspect import isgenerator,isgeneratorfunction`\n"
   ]
  },
  {
   "cell_type": "code",
   "execution_count": 14,
   "metadata": {
    "collapsed": false
   },
   "outputs": [
    {
     "name": "stdout",
     "output_type": "stream",
     "text": [
      "[(1, 2, 3, 4), (1, 2, 4, 3), (1, 3, 2, 4), (1, 3, 4, 2), (1, 4, 2, 3), (1, 4, 3, 2), (2, 1, 3, 4), (2, 1, 4, 3), (2, 3, 1, 4), (2, 3, 4, 1), (2, 4, 1, 3), (2, 4, 3, 1), (3, 1, 2, 4), (3, 1, 4, 2), (3, 2, 1, 4), (3, 2, 4, 1), (3, 4, 1, 2), (3, 4, 2, 1), (4, 1, 2, 3), (4, 1, 3, 2), (4, 2, 1, 3), (4, 2, 3, 1), (4, 3, 1, 2), (4, 3, 2, 1)]\n"
     ]
    }
   ],
   "source": [
    "# 使用迭代器解决排列问题\n",
    "import itertools\n",
    "horses = [1, 2, 3, 4]\n",
    "races = itertools.permutations(horses)\n",
    "print(list(races))"
   ]
  },
  {
   "cell_type": "code",
   "execution_count": 15,
   "metadata": {
    "collapsed": false
   },
   "outputs": [],
   "source": [
    "#以下这一段代码来自 http://anandology.com/python-practice-book/iterators.html ,可详细参考之,尤其是应用场景\n",
    "def readfiles(filenames):\n",
    "    for f in filenames:\n",
    "        for line in open(f):\n",
    "            yield line\n",
    "\n",
    "def grep(pattern, lines):\n",
    "    return (line for line in lines if pattern in line)\n",
    "\n",
    "def printlines(lines):\n",
    "    for line in lines:\n",
    "        print(line)\n",
    "\n",
    "def main(pattern, filenames):\n",
    "    lines = readfiles(filenames)\n",
    "    lines = grep(pattern, lines)\n",
    "    printlines(lines)"
   ]
  },
  {
   "cell_type": "code",
   "execution_count": 16,
   "metadata": {
    "collapsed": true
   },
   "outputs": [],
   "source": [
    "# 关于`generator`可以参考 http://www.dabeaz.com/generators-uk/\n",
    "# 有生成器的地方就有迭代器"
   ]
  },
  {
   "cell_type": "markdown",
   "metadata": {},
   "source": [
    "**[decorator](https://stackoverflow.com/questions/739654/how-to-make-a-chain-of-function-decorators)** 装饰器妙用无穷"
   ]
  },
  {
   "cell_type": "code",
   "execution_count": 17,
   "metadata": {
    "collapsed": false
   },
   "outputs": [
    {
     "name": "stdout",
     "output_type": "stream",
     "text": [
      "<b><i>hello world</i></b>\n"
     ]
    }
   ],
   "source": [
    "# 代码来自stackoverflow\n",
    "\n",
    "def makebold(fn):\n",
    "    def wrapped():\n",
    "        return \"<b>\" + fn() + \"</b>\"\n",
    "    return wrapped\n",
    "\n",
    "def makeitalic(fn):\n",
    "    def wrapped():\n",
    "        return \"<i>\" + fn() + \"</i>\"\n",
    "    return wrapped\n",
    "\n",
    "@makebold\n",
    "@makeitalic\n",
    "def hello():\n",
    "    return \"hello world\"\n",
    "\n",
    "print(hello()) ## returns \"<b><i>hello world</i></b>\""
   ]
  },
  {
   "cell_type": "markdown",
   "metadata": {},
   "source": [
    "**[lambda表达式]** "
   ]
  },
  {
   "cell_type": "code",
   "execution_count": 18,
   "metadata": {
    "collapsed": false
   },
   "outputs": [
    {
     "name": "stdout",
     "output_type": "stream",
     "text": [
      "81\n"
     ]
    }
   ],
   "source": [
    "def ha(x):\n",
    "    return x*x\n",
    "print(ha(9))"
   ]
  },
  {
   "cell_type": "code",
   "execution_count": 19,
   "metadata": {
    "collapsed": false
   },
   "outputs": [
    {
     "name": "stdout",
     "output_type": "stream",
     "text": [
      "81\n",
      "81\n"
     ]
    }
   ],
   "source": [
    "g = lambda x : x*x\n",
    "print(g(9))\n",
    "#好像这样写并不能体现出lambda的优势，例如这个函数本身也可以写作一行\n",
    "\n",
    "def ha(x): return x*x\n",
    "print(ha(9))"
   ]
  },
  {
   "cell_type": "code",
   "execution_count": 20,
   "metadata": {
    "collapsed": false
   },
   "outputs": [
    {
     "name": "stdout",
     "output_type": "stream",
     "text": [
      "[(1, 3), (2, 4), (89, 43), (22, 67), (43, 78)]\n",
      "[(1, 3), (2, 4), (22, 67), (43, 78), (89, 43)]\n"
     ]
    }
   ],
   "source": [
    "# 对列表进行排序\n",
    "a = [(1,3),(2,4),(22,67),(43,78),(89,43)]\n",
    "a.sort(key=lambda x:x[1])\n",
    "print(a)\n",
    "a.sort(key=lambda x:x[0])\n",
    "print(a)"
   ]
  },
  {
   "cell_type": "markdown",
   "metadata": {},
   "source": [
    "**[推荐]**使用高阶函数　`map`,`filter`,`reduce`,`all` ,`any`,`inspect`,`enumerate`\n",
    "\n",
    "> * `all(iterable)`\n",
    "* `any(iterable)`"
   ]
  },
  {
   "cell_type": "code",
   "execution_count": 21,
   "metadata": {
    "collapsed": false
   },
   "outputs": [],
   "source": [
    "def factorial(n):\n",
    "    '''return n!'''\n",
    "    return 1 if n < 2 else n * factorial(n-1)"
   ]
  },
  {
   "cell_type": "code",
   "execution_count": 22,
   "metadata": {
    "collapsed": false
   },
   "outputs": [
    {
     "name": "stdout",
     "output_type": "stream",
     "text": [
      "Help on function factorial in module __main__:\n",
      "\n",
      "factorial(n)\n",
      "    return n!\n",
      "\n"
     ]
    },
    {
     "data": {
      "text/plain": [
       "39916800"
      ]
     },
     "execution_count": 22,
     "metadata": {},
     "output_type": "execute_result"
    }
   ],
   "source": [
    "help(factorial)\n",
    "factorial(11)"
   ]
  },
  {
   "cell_type": "code",
   "execution_count": 23,
   "metadata": {
    "collapsed": false
   },
   "outputs": [
    {
     "data": {
      "text/plain": [
       "[1, 2, 6, 24, 120, 720, 5040, 40320, 362880, 3628800]"
      ]
     },
     "execution_count": 23,
     "metadata": {},
     "output_type": "execute_result"
    }
   ],
   "source": [
    "list(map(factorial,range(1,11)))"
   ]
  },
  {
   "cell_type": "code",
   "execution_count": 24,
   "metadata": {
    "collapsed": false
   },
   "outputs": [
    {
     "data": {
      "text/plain": [
       "[(1, 'a'),\n",
       " (2, 'b'),\n",
       " (3, 'c'),\n",
       " (4, 'd'),\n",
       " (5, 'e'),\n",
       " (6, 'f'),\n",
       " (7, 'g'),\n",
       " (8, 'h'),\n",
       " (9, 'i'),\n",
       " (10, 'j'),\n",
       " (11, 'k'),\n",
       " (12, 'l'),\n",
       " (13, 'm'),\n",
       " (14, 'n'),\n",
       " (15, 'o'),\n",
       " (16, 'p'),\n",
       " (17, 'q'),\n",
       " (18, 'r'),\n",
       " (19, 's'),\n",
       " (20, 't'),\n",
       " (21, 'u'),\n",
       " (22, 'v'),\n",
       " (23, 'w')]"
      ]
     },
     "execution_count": 24,
     "metadata": {},
     "output_type": "execute_result"
    }
   ],
   "source": [
    "import string\n",
    "num = [ n for n in range(1,24)]\n",
    "alpha = [ s for s in string.ascii_lowercase]\n",
    "list(zip(num,alpha))"
   ]
  },
  {
   "cell_type": "code",
   "execution_count": 25,
   "metadata": {
    "collapsed": false
   },
   "outputs": [
    {
     "data": {
      "text/plain": [
       "4950"
      ]
     },
     "execution_count": 25,
     "metadata": {},
     "output_type": "execute_result"
    }
   ],
   "source": [
    "from functools import reduce\n",
    "from operator import add\n",
    "reduce(add,range(100))\n",
    "sum(range(100))"
   ]
  },
  {
   "cell_type": "code",
   "execution_count": 26,
   "metadata": {
    "collapsed": false
   },
   "outputs": [
    {
     "name": "stdout",
     "output_type": "stream",
     "text": [
      "Filter,And Reduce Is:  [18, 9, 24, 12, 27]\n"
     ]
    }
   ],
   "source": [
    "foo = [2, 18, 9, 22, 17, 24, 8, 12, 27]\n",
    "print(\"Filter,And Reduce Is: \", list(filter(lambda x: x % 3 == 0, foo)))"
   ]
  },
  {
   "cell_type": "code",
   "execution_count": 27,
   "metadata": {
    "collapsed": false
   },
   "outputs": [
    {
     "name": "stdout",
     "output_type": "stream",
     "text": [
      "Map,And Reduce Is:  [14, 46, 28, 54, 44, 58, 26, 34, 64]\n"
     ]
    }
   ],
   "source": [
    "print (\"Map,And Reduce Is: \", list(map(lambda x: x * 2 + 10, foo)))"
   ]
  },
  {
   "cell_type": "code",
   "execution_count": 28,
   "metadata": {
    "collapsed": false
   },
   "outputs": [
    {
     "name": "stdout",
     "output_type": "stream",
     "text": [
      "Reduce,And Reduce Is:  139\n"
     ]
    }
   ],
   "source": [
    "print (\"Reduce,And Reduce Is: \",reduce(lambda x, y: x + y, foo))"
   ]
  },
  {
   "cell_type": "markdown",
   "metadata": {},
   "source": [
    "**[不推荐]**使用`*args` and `**kwargs`传递可变长参数\n",
    "* 降低了代码易读性\n",
    "> 这个全看个人操作吧,但是可维护性的确不好\n",
    "* [```什么是 *args, **kwargs```](https://stackoverflow.com/questions/36901/what-does-double-star-asterisk-and-star-asterisk-do-for-parameters)\n"
   ]
  },
  {
   "cell_type": "code",
   "execution_count": 29,
   "metadata": {
    "collapsed": false
   },
   "outputs": [
    {
     "name": "stdout",
     "output_type": "stream",
     "text": [
      "Those people was named: ['0', '1', '2', '3', '4', '5', '6', '7', '8', '9'] Now They want Run Is True.\n"
     ]
    }
   ],
   "source": [
    "def funny(*args,**kwargs):\n",
    "    for name in args:\n",
    "        print(\"Those people was named:\" ,name,end= ' ')\n",
    "    for action in kwargs:\n",
    "        if action == 'Run' and kwargs[action] is True:\n",
    "            print(\"Now They want Run Is True.\")\n",
    "        elif action == 'Run' and kwargs[action] is False:\n",
    "            print(\"I just wana run, But I can't, this feeling is not good\")\n",
    "        else:\n",
    "            print(\"I can't understand Those People.\")\n",
    "\n",
    "people = [str(i) for i in range(0,10)]\n",
    "funny(people,Run=True)"
   ]
  },
  {
   "cell_type": "markdown",
   "metadata": {},
   "source": [
    "**[推荐]**参数数量和名称应当尽量明确"
   ]
  },
  {
   "cell_type": "code",
   "execution_count": 30,
   "metadata": {
    "collapsed": true
   },
   "outputs": [],
   "source": [
    "def funny(name,Action):\n",
    "    pass"
   ]
  },
  {
   "cell_type": "markdown",
   "metadata": {},
   "source": [
    "**[推荐]** 使用`genvent`的[`monkey patch`](https://web.archive.org/web/20120730014107/http://wiki.zope.org/zope2/MonkeyPatch)\n",
    "> 注意`patch`的时间越早越好，在文件的第一行去进行\n",
    "```python\n",
    "patch_all(socket=True, dns=True, time=True, select=True, thread=True, os=True, ssl=True, httplib=False, subprocess=True, sys=False, aggressive=True, Event=False, builtins=True, signal=True)\n",
    "```"
   ]
  },
  {
   "cell_type": "code",
   "execution_count": 31,
   "metadata": {
    "collapsed": false
   },
   "outputs": [],
   "source": [
    "# from gevent import monkey\n",
    "# monkey.patch_all()\n",
    "# 放到文件第一行，在所有执行未开始之前"
   ]
  },
  {
   "cell_type": "markdown",
   "metadata": {},
   "source": [
    "**[其他]**　去重，排序，查找，遍历文件夹(文件),LRU,Tree"
   ]
  },
  {
   "cell_type": "markdown",
   "metadata": {},
   "source": [
    "字典列表的去重"
   ]
  },
  {
   "cell_type": "code",
   "execution_count": 32,
   "metadata": {
    "collapsed": false
   },
   "outputs": [
    {
     "name": "stdout",
     "output_type": "stream",
     "text": [
      "[{'name': 'zhangsan'}, {'name': 'lisi'}]\n"
     ]
    }
   ],
   "source": [
    "#普通去重直接使用set(list)即可，但是对于字典列表来说，由于dict不能hash，所以不能直接通过set()进行\n",
    "user = [{\"name\":'zhangsan'},{\"name\":\"lisi\"},{\"name\":\"zhangsan\"}]\n",
    "new = []\n",
    "t_user = [str(r) for r in user]\n",
    "for _ in set(t_user):\n",
    "    tmp = eval(_)\n",
    "    new.append(tmp)\n",
    "print(new)\n",
    "#当然字典列表并不一定是最合适的数据结构，我通常是爬虫爬数据时用。此处只是提供一个去重的方法，可以借鉴"
   ]
  },
  {
   "cell_type": "markdown",
   "metadata": {},
   "source": [
    "遍历文件夹下的文件"
   ]
  },
  {
   "cell_type": "code",
   "execution_count": 33,
   "metadata": {
    "collapsed": false
   },
   "outputs": [
    {
     "name": "stdout",
     "output_type": "stream",
     "text": [
      "./pythonic.ipynb\n",
      "./target.txt\n",
      "./source.txt\n",
      "./.gitignore\n",
      "./.ipynb_checkpoints/save_restore_model-checkpoint.ipynb\n",
      "./.ipynb_checkpoints/pythonic-checkpoint.ipynb\n",
      "./.git/config\n",
      "./.git/COMMIT_EDITMSG\n",
      "./.git/description\n",
      "./.git/ORIG_HEAD\n",
      "./.git/index\n",
      "./.git/HEAD\n",
      "./.git/hooks/prepare-commit-msg.sample\n",
      "./.git/hooks/post-update.sample\n",
      "./.git/hooks/pre-commit.sample\n",
      "./.git/hooks/applypatch-msg.sample\n",
      "./.git/hooks/pre-push.sample\n",
      "./.git/hooks/commit-msg.sample\n",
      "./.git/hooks/pre-rebase.sample\n",
      "./.git/hooks/pre-applypatch.sample\n",
      "./.git/hooks/update.sample\n",
      "./.git/logs/HEAD\n",
      "./.git/logs/refs/heads/master\n",
      "./.git/logs/refs/remotes/origin/master\n",
      "./.git/info/exclude\n",
      "./.git/objects/42/2eac1337187a60ba2e72690bfae4f6d9f2659f\n",
      "./.git/objects/d8/c7dab8a6b2c999bb3864b02d2d6328b77a5515\n",
      "./.git/objects/96/320bcc8f24f4a7044c90ebe31120fd720673aa\n",
      "./.git/objects/27/807f02d0a5c1cea98bef07365490551c85c7c2\n",
      "./.git/refs/heads/master\n",
      "./.git/refs/remotes/origin/master\n"
     ]
    }
   ],
   "source": [
    "import os \n",
    "for p,d,f in os.walk('./'):\n",
    "    for file in f:\n",
    "        print(os.path.join(p,file))"
   ]
  },
  {
   "cell_type": "markdown",
   "metadata": {},
   "source": [
    "一行Python实现树结构\n",
    "* [One Line Tree](https://gist.github.com/hrldcpr/2012250)"
   ]
  },
  {
   "cell_type": "code",
   "execution_count": 34,
   "metadata": {
    "collapsed": true
   },
   "outputs": [],
   "source": [
    "from collections import defaultdict\n",
    "def tree(): return defaultdict(tree)"
   ]
  },
  {
   "cell_type": "markdown",
   "metadata": {},
   "source": [
    "使用cPickle代替Pickle"
   ]
  },
  {
   "cell_type": "code",
   "execution_count": 35,
   "metadata": {
    "collapsed": true
   },
   "outputs": [],
   "source": [
    "try:\n",
    "   import cPickle as pickle\n",
    "except:\n",
    "   import pickle"
   ]
  },
  {
   "cell_type": "markdown",
   "metadata": {},
   "source": [
    "使用pprint代替print"
   ]
  },
  {
   "cell_type": "code",
   "execution_count": 36,
   "metadata": {
    "collapsed": false
   },
   "outputs": [
    {
     "name": "stdout",
     "output_type": "stream",
     "text": [
      "{'a': 1, 'b': 2, 'c': 3, 'd': 4}\n"
     ]
    }
   ],
   "source": [
    "from pprint import pprint\n",
    "ha = {'a':1,'b':2,'c':3,'d':4}\n",
    "pprint(ha)\n",
    "\n",
    "# 此处好像没有体现出来。。。"
   ]
  },
  {
   "cell_type": "markdown",
   "metadata": {},
   "source": [
    "**[高级数据结构]** `collections: nametuple`, `userDict`,`deque`"
   ]
  },
  {
   "cell_type": "markdown",
   "metadata": {},
   "source": [
    "**[命令行参数解析]**  \n",
    "> * `docopt`以编写文档的形式将命令行参数解析搞定\n",
    "* optparse\n",
    "* argparse"
   ]
  },
  {
   "cell_type": "markdown",
   "metadata": {},
   "source": [
    "**[Terminal Console]** One Line Python\n",
    "\n",
    "* `python -m http.server`\n",
    "* `python -m json.tool`\n",
    "* `python -m venv myvenv`"
   ]
  },
  {
   "cell_type": "markdown",
   "metadata": {},
   "source": [
    "使用`2to3.py`对代码迁移"
   ]
  },
  {
   "cell_type": "markdown",
   "metadata": {},
   "source": [
    "使用`from __future__ import some`　导入未来版本的新特性\n",
    "> ```\n",
    "from __future__ import absolute_import\n",
    "from __future__ import division\n",
    "from __future__ import print_function\n",
    "```"
   ]
  },
  {
   "cell_type": "markdown",
   "metadata": {},
   "source": [
    "关于`dict`的几个建议:\n",
    "* 使用`python dict`去做查找，因为`dcit`查找的时间复杂度为`1`\n",
    "* 使用 `.get`去检查某个键值是否存在，而非直接采用`dict[key]==Value`，当不存在时会抛出异常\n",
    "* 继承自`dict`类，覆盖`dict`默认方法是无效的，所以需要继承自`collections.UserDict`"
   ]
  },
  {
   "cell_type": "markdown",
   "metadata": {},
   "source": [
    "可以使用`__slot__`去节省实例的空间，将所有类属性放到`__slot__ = ()`中，但同时`__slot__`限定了不能对类属性进行修改，如果想添加自定义的类属性，那就不能用。而且不能将`__dict__`放进去，因为`__slot__`本身就是通过避免`dict`实现的。"
   ]
  },
  {
   "cell_type": "markdown",
   "metadata": {},
   "source": [
    "### Resources\n",
    "* [知乎pythonic问题下赖明星的回答](https://www.zhihu.com/question/19794855/answer/129270643)\n",
    "* [Google Python Style Guide](http://zh-google-styleguide.readthedocs.io/en/latest/google-python-styleguide/python_style_rules/)\n",
    "* [Python PEPs](https://www.python.org/dev/peps/)\n",
    "* [The Hitchhiker's Guide to Python](http://docs.python-guide.org/en/latest/writing/style/)\n",
    "* [叶落乌啼霜满天](https://thief.one/2017/04/19/1/)\n",
    "* [Python Tips](http://book.pythontips.com/en/latest/index.html)\n",
    "* [Python Algorithms](https://github.com/TheAlgorithms/Python)\n",
    "* [Python Design Patterns](https://github.com/faif/python-patterns)"
   ]
  }
 ],
 "metadata": {
  "kernelspec": {
   "display_name": "Python 3",
   "language": "python",
   "name": "python3"
  },
  "language_info": {
   "codemirror_mode": {
    "name": "ipython",
    "version": 3
   },
   "file_extension": ".py",
   "mimetype": "text/x-python",
   "name": "python",
   "nbconvert_exporter": "python",
   "pygments_lexer": "ipython3",
   "version": "3.6.0"
  }
 },
 "nbformat": 4,
 "nbformat_minor": 2
}
